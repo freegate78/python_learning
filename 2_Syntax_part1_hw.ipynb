{
 "cells": [
  {
   "cell_type": "markdown",
   "metadata": {},
   "source": [
    "# Базовая часть"
   ]
  },
  {
   "cell_type": "markdown",
   "metadata": {},
   "source": [
    "Рассмотрим задание 2 из лекции. При анализе отзывов на работу техподдержки вы считали массив из отзывов (для простоты отзыва приведено всего два, но могло быть и больше):"
   ]
  },
  {
   "cell_type": "code",
   "execution_count": 1,
   "metadata": {
    "collapsed": true
   },
   "outputs": [],
   "source": [
    "reviews = [\"\"\"Телефон абонента: +7 916 000 00 01\n",
    "Время: 10:34\n",
    "Дата: 20.05.2017\n",
    "Оценка: 1\n",
    "Длительность разговора (мин.): 0:32\n",
    "Комментарий: Общение с сотрудником вашей техподдержки мне не понравилось. Раньше всегда отвечала девушка с приятным голосом, а сегодня какой-то мужчина. Совсем никуда не годится, примите меры!!!\"\"\",\n",
    "\"\"\"Телефон абонента: +7 916 000 00 02\n",
    "Время: 9:20\n",
    "Дата: 21.05.2017\n",
    "Оценка: 5\n",
    "Длительность разговора (мин.): 25:07\n",
    "Комментарий: С моей проблемой мне помогли, большое спасибо!\"\"\"]"
   ]
  },
  {
   "cell_type": "markdown",
   "metadata": {},
   "source": [
    "Сформируйте на основе этого массива словарь my_base, в котором по ключу в виде строки с телефоном абонента будет храниться другой словарь. Внутренний словарь по ключам в виде названий полей отзыва должен хранить значение полей (в виде строк). Например, код ниже должен выдать True:"
   ]
  },
  {
   "cell_type": "markdown",
   "metadata": {},
   "source": [
    "Обратите внимание, что вам могут немного мешать пробелы после знаков \":\"\n"
   ]
  },
  {
   "cell_type": "code",
   "execution_count": 50,
   "metadata": {
    "collapsed": false
   },
   "outputs": [
    {
     "data": {
      "text/plain": [
       "True"
      ]
     },
     "execution_count": 50,
     "metadata": {},
     "output_type": "execute_result"
    }
   ],
   "source": [
    "#create dict\n",
    "my_base={}\n",
    "for review in reviews:\n",
    "  #init inner dict and key name for phone number\n",
    "  review_base={}\n",
    "  phone_number=\"\"\n",
    "  for line in review.split('\\n'):\n",
    "    if line:\n",
    "        splitted_line = line.split(': ')\n",
    "        field_name = splitted_line[0].strip()\n",
    "        field_value = splitted_line[1].strip()\n",
    "        #fill inner dict\n",
    "        review_base[field_name]=field_value\n",
    "        #trigger key name for master dict\n",
    "        if field_name == 'Телефон абонента':\n",
    "            phone_number=field_value\n",
    "            #print field_name + \":-:\"+field_value\n",
    "  #fill master dict\n",
    "  my_base[phone_number]=review_base\n",
    "\n",
    "    \n",
    "#my_base        \n",
    "my_base['+7 916 000 00 01']['Дата'] == '20.05.2017'"
   ]
  },
  {
   "cell_type": "markdown",
   "metadata": {},
   "source": [
    "# Продвинутая часть"
   ]
  },
  {
   "cell_type": "markdown",
   "metadata": {},
   "source": [
    "Попробуйте выполнить предыдущее задание, но теперь обеспечив хранение полей из отзыва в словаре в тех типах данных, которые на ваш взгляд наиболее уместны. Подумайте, что делать с датой и временем. Возможно вам покажется полезным немного воспользоваться поисковиком или документацией к Python, а может быть вам хватит стандартных типов данных.\n",
    "Объясните свой выбор в комментариях к коду или markdown ячейках и продемонстрируйте, что поля имеют нужный тип."
   ]
  },
  {
   "cell_type": "code",
   "execution_count": 118,
   "metadata": {
    "collapsed": false
   },
   "outputs": [
    {
     "name": "stdout",
     "output_type": "stream",
     "text": [
      "Телефон абонента:+7 916 000 00 01 parsed as type:<type 'str'>\n",
      "Время:10:34:00 parsed as type:<type 'datetime.time'>\n",
      "Дата:2017-05-20 00:00:00 parsed as type:<type 'datetime.datetime'>\n",
      "Оценка:1 parsed as type:<type 'int'>\n",
      "Длительность разговора (мин.):00:32:00 parsed as type:<type 'datetime.time'>\n",
      "Комментарий:Общение с сотрудником вашей техподдержки мне не понравилось. Раньше всегда отвечала девушка с приятным голосом, а сегодня какой-то мужчина. Совсем никуда не годится, примите меры!!! parsed as type:<type 'str'>\n",
      "Телефон абонента:+7 916 000 00 02 parsed as type:<type 'str'>\n",
      "Время:09:20:00 parsed as type:<type 'datetime.time'>\n",
      "Дата:2017-05-21 00:00:00 parsed as type:<type 'datetime.datetime'>\n",
      "Оценка:5 parsed as type:<type 'int'>\n",
      "Длительность разговора (мин.):25:07 parsed as type:<type 'str'>\n",
      "Комментарий:С моей проблемой мне помогли, большое спасибо! parsed as type:<type 'str'>\n",
      "True\n",
      "20.05.2017\n",
      "10:34:00\n"
     ]
    }
   ],
   "source": [
    "import time\n",
    "from datetime import datetime, timedelta, date, time as dt_time\n",
    "#create vars\n",
    "int_val=0\n",
    "float_val=0.0\n",
    "str_val=\"\"\n",
    "datetime_val=datetime.now()\n",
    "date_val=datetime.now().date()\n",
    "time_val=datetime.now().time()\n",
    "import datetime\n",
    "#create dict\n",
    "my_base={}\n",
    "for review in reviews:\n",
    "  #init inner dict and key name for phone number\n",
    "  review_base={}\n",
    "  phone_number=\"\"\n",
    "  for line in review.split('\\n'):\n",
    "    if line:\n",
    "        splitted_line = line.split(': ')\n",
    "        field_name = splitted_line[0].strip()\n",
    "        field_value = splitted_line[1].strip()\n",
    "        #parse values: first integer, if failed - then float. \n",
    "        #after that try parse date and time in different wildcards - it parse only date or time at a moment\n",
    "        #if all of parses are failed - value still be as string\n",
    "        try: int_val=int(field_value)\n",
    "        except Exception: \n",
    "            int_val=-1\n",
    "            try: float_val=float(field_value)\n",
    "            except Exception: float_val=-1\n",
    "            else: field_value=float_val\n",
    "        else: field_value=int_val\n",
    "        try: date_val=datetime.datetime.strptime(field_value,'%d.%m.%Y')\n",
    "        except Exception: date_val=-1\n",
    "        else: field_value=date_val\n",
    "        try: time_val=datetime.datetime.strptime(field_value,'%H:%M').time()\n",
    "        except Exception: time_val=-1\n",
    "        else: field_value=time_val\n",
    "        print field_name+\":\"+str(field_value)+\" parsed as type:\"+str(type(field_value))\n",
    "        #fill inner dict\n",
    "        review_base[field_name]=field_value\n",
    "        #trigger key name for master dict\n",
    "        if field_name == 'Телефон абонента':\n",
    "            phone_number=field_value\n",
    "            #print field_name + \":-:\"+field_value\n",
    "  #fill master dict\n",
    "  my_base[phone_number]=review_base\n",
    "   \n",
    "print my_base['+7 916 000 00 01']['Дата'] == datetime.datetime.strptime('20.05.2017','%d.%m.%Y')\n",
    "print my_base['+7 916 000 00 01']['Дата'].strftime('%d.%m.%Y')\n",
    "print my_base['+7 916 000 00 01']['Время']"
   ]
  },
  {
   "cell_type": "markdown",
   "metadata": {},
   "source": [
    "# Сложная часть"
   ]
  },
  {
   "cell_type": "markdown",
   "metadata": {},
   "source": [
    "На лекции было рассказано про неизменяемые типы, в частности про tuple. Подумайте, можно ли \"сломать\" неизменяемость tuple? Как сделать tuple изменяемым? Можно ли будет его добавить в множество или использовать в качестве ключа в словаре?"
   ]
  },
  {
   "cell_type": "code",
   "execution_count": 157,
   "metadata": {
    "collapsed": false
   },
   "outputs": [
    {
     "name": "stdout",
     "output_type": "stream",
     "text": [
      "(1, 2, 3, 4)\n",
      "dic from tuple\n",
      "{(1, 2, 3, 4): 'test'}\n",
      "convert in cycle:\n",
      "[1, 2, 3, 4]\n",
      "convert by list():\n",
      "[1, 2, 3, 4]\n",
      "[1, 2, 3, 4, 5]\n",
      "(1, 2, 3, 4, 5)\n",
      "dic after chaging tuple\n",
      "{(1, 2, 3, 4, 5): 'test', (1, 2, 3, 4): 'test'}\n",
      "dic after chaging tuple key value\n",
      "{(1, 2, 3, 4, 5): ('First', 'Second'), (1, 2, 3, 4): 'test'}\n",
      "dic[tuple_val][0]=First\n",
      "dic[tuple_val][1]=Second\n",
      "dic[list_val converted to tuple]=test\n"
     ]
    }
   ],
   "source": [
    "tuple_val=(1,2,3,4)\n",
    "print tuple_val\n",
    "#new dic\n",
    "dic={}\n",
    "dic[tuple_val]=\"test\"\n",
    "print \"dic from tuple\\n\"+str(dic)\n",
    "#new list\n",
    "list_val=[]\n",
    "#fill list in cycle\n",
    "for member in tuple_val: list_val.append(member)\n",
    "print \"convert in cycle:\\n\"+str(list_val)\n",
    "#another way convert as is\n",
    "list_val=list(tuple_val)\n",
    "print \"convert by list():\\n\"+str(list_val)\n",
    "#add new member in list\n",
    "list_val.append(5)\n",
    "#show list\n",
    "print list_val\n",
    "#convert to tuple\n",
    "tuple_val=tuple(list_val)\n",
    "#show new tuple\n",
    "print tuple_val\n",
    "dic[tuple_val]=\"test\"\n",
    "print \"dic after chaging tuple\\n\"+str(dic)\n",
    "#change key value to tuple\n",
    "dic[tuple_val]=('First','Second')\n",
    "print \"dic after chaging tuple key value\\n\"+str(dic)\n",
    "print \"dic[tuple_val][0]=\"+str(dic[tuple_val][0])\n",
    "print \"dic[tuple_val][1]=\"+str(dic[tuple_val][1])\n",
    "list_val=[1,2,3,4]\n",
    "print \"dic[list_val converted to tuple]=\"+str(dic[tuple(list_val)])\n",
    "\n",
    "\n"
   ]
  },
  {
   "cell_type": "code",
   "execution_count": null,
   "metadata": {
    "collapsed": true
   },
   "outputs": [],
   "source": []
  }
 ],
 "metadata": {
  "anaconda-cloud": {},
  "kernelspec": {
   "display_name": "Python 2",
   "language": "python",
   "name": "python2"
  },
  "language_info": {
   "codemirror_mode": {
    "name": "ipython",
    "version": 2
   },
   "file_extension": ".py",
   "mimetype": "text/x-python",
   "name": "python",
   "nbconvert_exporter": "python",
   "pygments_lexer": "ipython2",
   "version": "2.7.13"
  }
 },
 "nbformat": 4,
 "nbformat_minor": 1
}
